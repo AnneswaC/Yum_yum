{
 "cells": [
  {
   "cell_type": "code",
   "execution_count": 1,
   "id": "168459e4",
   "metadata": {},
   "outputs": [],
   "source": [
    "import pandas as pd\n",
    "import numpy as np\n",
    "#import matplotlib.pyplot as plt\n",
    "import plotly.express as px\n",
    "from sklearn.compose import ColumnTransformer\n",
    "from sklearn.preprocessing import StandardScaler,OneHotEncoder"
   ]
  },
  {
   "cell_type": "code",
   "execution_count": 2,
   "id": "a5ef49dc",
   "metadata": {},
   "outputs": [],
   "source": [
    "X_train = pd.read_csv('X_train',index_col=0)"
   ]
  },
  {
   "cell_type": "code",
   "execution_count": 4,
   "id": "fdcf9ca7",
   "metadata": {},
   "outputs": [],
   "source": []
  },
  {
   "cell_type": "code",
   "execution_count": 4,
   "id": "b8f90bfb",
   "metadata": {},
   "outputs": [],
   "source": [
    "def create_speed(data):\n",
    "    data['Speed_[km/m]'] =data['Distance_km'] / data['Preparation_Time_min']\n",
    "    return data"
   ]
  },
  {
   "cell_type": "code",
   "execution_count": null,
   "id": "2b58a041",
   "metadata": {},
   "outputs": [],
   "source": []
  },
  {
   "cell_type": "code",
   "execution_count": null,
   "id": "76b86cb7",
   "metadata": {},
   "outputs": [],
   "source": []
  },
  {
   "cell_type": "code",
   "execution_count": null,
   "id": "e76aa980",
   "metadata": {},
   "outputs": [],
   "source": []
  },
  {
   "cell_type": "code",
   "execution_count": null,
   "id": "11563fd7",
   "metadata": {},
   "outputs": [],
   "source": []
  },
  {
   "cell_type": "code",
   "execution_count": null,
   "id": "841ebe8d",
   "metadata": {},
   "outputs": [],
   "source": []
  },
  {
   "cell_type": "code",
   "execution_count": null,
   "id": "37a53dc6",
   "metadata": {},
   "outputs": [],
   "source": []
  },
  {
   "cell_type": "code",
   "execution_count": null,
   "id": "61afe39f",
   "metadata": {},
   "outputs": [],
   "source": []
  },
  {
   "cell_type": "code",
   "execution_count": null,
   "id": "01d3f953",
   "metadata": {},
   "outputs": [],
   "source": []
  },
  {
   "cell_type": "code",
   "execution_count": null,
   "id": "47b748b9",
   "metadata": {},
   "outputs": [],
   "source": []
  },
  {
   "cell_type": "code",
   "execution_count": null,
   "id": "a45c4145",
   "metadata": {},
   "outputs": [],
   "source": []
  },
  {
   "cell_type": "code",
   "execution_count": 37,
   "id": "8478df1f",
   "metadata": {},
   "outputs": [],
   "source": [
    "X_train = pd.read_csv('X_train',index_col=0)\n",
    "y_train = pd.read_csv('y_train',index_col=0)\n",
    "X_test = pd.read_csv('X_test',index_col=0)\n",
    "y_test = pd.read_csv('y_test',index_col=0)"
   ]
  },
  {
   "cell_type": "code",
   "execution_count": 3,
   "id": "b5ef6577",
   "metadata": {},
   "outputs": [],
   "source": [
    "def select_column(data):\n",
    "    return data[['Distance_km', 'Weather',  'Traffic_Level', 'Time_of_Day', 'Vehicle_Type', 'Preparation_Time_min']]"
   ]
  },
  {
   "cell_type": "code",
   "execution_count": null,
   "id": "99aff982",
   "metadata": {},
   "outputs": [],
   "source": []
  },
  {
   "cell_type": "code",
   "execution_count": 39,
   "id": "7314a6e5",
   "metadata": {},
   "outputs": [
    {
     "data": {
      "text/plain": [
       "Index(['Order_ID', 'Distance_km', 'Weather', 'Traffic_Level', 'Time_of_Day',\n",
       "       'Vehicle_Type', 'Preparation_Time_min', 'Courier_Experience_yrs'],\n",
       "      dtype='object')"
      ]
     },
     "execution_count": 39,
     "metadata": {},
     "output_type": "execute_result"
    }
   ],
   "source": [
    "X_test.columns"
   ]
  },
  {
   "cell_type": "code",
   "execution_count": 43,
   "id": "c9e0cecc",
   "metadata": {},
   "outputs": [],
   "source": [
    "sample = X_test.head(1)[['Distance_km', 'Weather',\n",
    "                         'Traffic_Level', 'Time_of_Day',\n",
    "       'Vehicle_Type', 'Preparation_Time_min']]"
   ]
  },
  {
   "cell_type": "code",
   "execution_count": 44,
   "id": "6cc5bf62",
   "metadata": {},
   "outputs": [
    {
     "data": {
      "text/html": [
       "<div>\n",
       "<style scoped>\n",
       "    .dataframe tbody tr th:only-of-type {\n",
       "        vertical-align: middle;\n",
       "    }\n",
       "\n",
       "    .dataframe tbody tr th {\n",
       "        vertical-align: top;\n",
       "    }\n",
       "\n",
       "    .dataframe thead th {\n",
       "        text-align: right;\n",
       "    }\n",
       "</style>\n",
       "<table border=\"1\" class=\"dataframe\">\n",
       "  <thead>\n",
       "    <tr style=\"text-align: right;\">\n",
       "      <th></th>\n",
       "      <th>Distance_km</th>\n",
       "      <th>Weather</th>\n",
       "      <th>Traffic_Level</th>\n",
       "      <th>Time_of_Day</th>\n",
       "      <th>Vehicle_Type</th>\n",
       "      <th>Preparation_Time_min</th>\n",
       "    </tr>\n",
       "  </thead>\n",
       "  <tbody>\n",
       "    <tr>\n",
       "      <th>925</th>\n",
       "      <td>2.67</td>\n",
       "      <td>Clear</td>\n",
       "      <td>Medium</td>\n",
       "      <td>Night</td>\n",
       "      <td>Car</td>\n",
       "      <td>17</td>\n",
       "    </tr>\n",
       "  </tbody>\n",
       "</table>\n",
       "</div>"
      ],
      "text/plain": [
       "     Distance_km Weather Traffic_Level Time_of_Day Vehicle_Type  \\\n",
       "925         2.67   Clear        Medium       Night          Car   \n",
       "\n",
       "     Preparation_Time_min  \n",
       "925                    17  "
      ]
     },
     "execution_count": 44,
     "metadata": {},
     "output_type": "execute_result"
    }
   ],
   "source": [
    "sample\n"
   ]
  },
  {
   "cell_type": "code",
   "execution_count": 40,
   "id": "b00d7511",
   "metadata": {},
   "outputs": [],
   "source": [
    "def create_speed(data):\n",
    "    data['Speed_[km/m]'] =data['Distance_km'] / data['Preparation_Time_min']\n",
    "    return data "
   ]
  },
  {
   "cell_type": "code",
   "execution_count": 45,
   "id": "eef4a727",
   "metadata": {},
   "outputs": [
    {
     "data": {
      "text/html": [
       "<div>\n",
       "<style scoped>\n",
       "    .dataframe tbody tr th:only-of-type {\n",
       "        vertical-align: middle;\n",
       "    }\n",
       "\n",
       "    .dataframe tbody tr th {\n",
       "        vertical-align: top;\n",
       "    }\n",
       "\n",
       "    .dataframe thead th {\n",
       "        text-align: right;\n",
       "    }\n",
       "</style>\n",
       "<table border=\"1\" class=\"dataframe\">\n",
       "  <thead>\n",
       "    <tr style=\"text-align: right;\">\n",
       "      <th></th>\n",
       "      <th>Distance_km</th>\n",
       "      <th>Weather</th>\n",
       "      <th>Traffic_Level</th>\n",
       "      <th>Time_of_Day</th>\n",
       "      <th>Vehicle_Type</th>\n",
       "      <th>Preparation_Time_min</th>\n",
       "      <th>Speed_[km/m]</th>\n",
       "    </tr>\n",
       "  </thead>\n",
       "  <tbody>\n",
       "    <tr>\n",
       "      <th>925</th>\n",
       "      <td>2.67</td>\n",
       "      <td>Clear</td>\n",
       "      <td>Medium</td>\n",
       "      <td>Night</td>\n",
       "      <td>Car</td>\n",
       "      <td>17</td>\n",
       "      <td>0.157059</td>\n",
       "    </tr>\n",
       "  </tbody>\n",
       "</table>\n",
       "</div>"
      ],
      "text/plain": [
       "     Distance_km Weather Traffic_Level Time_of_Day Vehicle_Type  \\\n",
       "925         2.67   Clear        Medium       Night          Car   \n",
       "\n",
       "     Preparation_Time_min  Speed_[km/m]  \n",
       "925                    17      0.157059  "
      ]
     },
     "execution_count": 45,
     "metadata": {},
     "output_type": "execute_result"
    }
   ],
   "source": [
    "sample = create_speed(sample)\n",
    "sample"
   ]
  },
  {
   "cell_type": "code",
   "execution_count": 30,
   "id": "da66082a",
   "metadata": {},
   "outputs": [
    {
     "name": "stderr",
     "output_type": "stream",
     "text": [
      "C:\\Users\\User\\AppData\\Local\\Temp\\ipykernel_14280\\1435621871.py:2: SettingWithCopyWarning: \n",
      "A value is trying to be set on a copy of a slice from a DataFrame.\n",
      "Try using .loc[row_indexer,col_indexer] = value instead\n",
      "\n",
      "See the caveats in the documentation: https://pandas.pydata.org/pandas-docs/stable/user_guide/indexing.html#returning-a-view-versus-a-copy\n",
      "  data['Speed_[km/m]'] =data['Distance_km'] / data['Preparation_Time_min']\n"
     ]
    },
    {
     "data": {
      "text/html": [
       "<div>\n",
       "<style scoped>\n",
       "    .dataframe tbody tr th:only-of-type {\n",
       "        vertical-align: middle;\n",
       "    }\n",
       "\n",
       "    .dataframe tbody tr th {\n",
       "        vertical-align: top;\n",
       "    }\n",
       "\n",
       "    .dataframe thead th {\n",
       "        text-align: right;\n",
       "    }\n",
       "</style>\n",
       "<table border=\"1\" class=\"dataframe\">\n",
       "  <thead>\n",
       "    <tr style=\"text-align: right;\">\n",
       "      <th></th>\n",
       "      <th>Distance_km</th>\n",
       "      <th>Weather</th>\n",
       "      <th>Traffic_Level</th>\n",
       "      <th>Time_of_Day</th>\n",
       "      <th>Vehicle_Type</th>\n",
       "      <th>Preparation_Time_min</th>\n",
       "      <th>Speed_[km/m]</th>\n",
       "    </tr>\n",
       "  </thead>\n",
       "  <tbody>\n",
       "    <tr>\n",
       "      <th>913</th>\n",
       "      <td>12.00</td>\n",
       "      <td>Clear</td>\n",
       "      <td>Low</td>\n",
       "      <td>Evening</td>\n",
       "      <td>Car</td>\n",
       "      <td>25</td>\n",
       "      <td>0.480000</td>\n",
       "    </tr>\n",
       "    <tr>\n",
       "      <th>930</th>\n",
       "      <td>7.34</td>\n",
       "      <td>Foggy</td>\n",
       "      <td>Medium</td>\n",
       "      <td>Afternoon</td>\n",
       "      <td>Bike</td>\n",
       "      <td>22</td>\n",
       "      <td>0.333636</td>\n",
       "    </tr>\n",
       "    <tr>\n",
       "      <th>664</th>\n",
       "      <td>3.64</td>\n",
       "      <td>Clear</td>\n",
       "      <td>Low</td>\n",
       "      <td>Morning</td>\n",
       "      <td>Scooter</td>\n",
       "      <td>16</td>\n",
       "      <td>0.227500</td>\n",
       "    </tr>\n",
       "    <tr>\n",
       "      <th>768</th>\n",
       "      <td>3.97</td>\n",
       "      <td>Clear</td>\n",
       "      <td>High</td>\n",
       "      <td>Afternoon</td>\n",
       "      <td>Bike</td>\n",
       "      <td>19</td>\n",
       "      <td>0.208947</td>\n",
       "    </tr>\n",
       "    <tr>\n",
       "      <th>915</th>\n",
       "      <td>19.04</td>\n",
       "      <td>Rainy</td>\n",
       "      <td>Low</td>\n",
       "      <td>Evening</td>\n",
       "      <td>Car</td>\n",
       "      <td>12</td>\n",
       "      <td>1.586667</td>\n",
       "    </tr>\n",
       "    <tr>\n",
       "      <th>...</th>\n",
       "      <td>...</td>\n",
       "      <td>...</td>\n",
       "      <td>...</td>\n",
       "      <td>...</td>\n",
       "      <td>...</td>\n",
       "      <td>...</td>\n",
       "      <td>...</td>\n",
       "    </tr>\n",
       "    <tr>\n",
       "      <th>107</th>\n",
       "      <td>14.89</td>\n",
       "      <td>Snowy</td>\n",
       "      <td>High</td>\n",
       "      <td>Morning</td>\n",
       "      <td>Scooter</td>\n",
       "      <td>17</td>\n",
       "      <td>0.875882</td>\n",
       "    </tr>\n",
       "    <tr>\n",
       "      <th>272</th>\n",
       "      <td>4.55</td>\n",
       "      <td>Rainy</td>\n",
       "      <td>Low</td>\n",
       "      <td>Afternoon</td>\n",
       "      <td>Bike</td>\n",
       "      <td>5</td>\n",
       "      <td>0.910000</td>\n",
       "    </tr>\n",
       "    <tr>\n",
       "      <th>865</th>\n",
       "      <td>4.05</td>\n",
       "      <td>Clear</td>\n",
       "      <td>Medium</td>\n",
       "      <td>Afternoon</td>\n",
       "      <td>Scooter</td>\n",
       "      <td>21</td>\n",
       "      <td>0.192857</td>\n",
       "    </tr>\n",
       "    <tr>\n",
       "      <th>438</th>\n",
       "      <td>13.60</td>\n",
       "      <td>Foggy</td>\n",
       "      <td>High</td>\n",
       "      <td>Evening</td>\n",
       "      <td>Bike</td>\n",
       "      <td>9</td>\n",
       "      <td>1.511111</td>\n",
       "    </tr>\n",
       "    <tr>\n",
       "      <th>103</th>\n",
       "      <td>18.76</td>\n",
       "      <td>Clear</td>\n",
       "      <td>Medium</td>\n",
       "      <td>Evening</td>\n",
       "      <td>Car</td>\n",
       "      <td>15</td>\n",
       "      <td>1.250667</td>\n",
       "    </tr>\n",
       "  </tbody>\n",
       "</table>\n",
       "<p>795 rows × 7 columns</p>\n",
       "</div>"
      ],
      "text/plain": [
       "     Distance_km Weather Traffic_Level Time_of_Day Vehicle_Type  \\\n",
       "913        12.00   Clear           Low     Evening          Car   \n",
       "930         7.34   Foggy        Medium   Afternoon         Bike   \n",
       "664         3.64   Clear           Low     Morning      Scooter   \n",
       "768         3.97   Clear          High   Afternoon         Bike   \n",
       "915        19.04   Rainy           Low     Evening          Car   \n",
       "..           ...     ...           ...         ...          ...   \n",
       "107        14.89   Snowy          High     Morning      Scooter   \n",
       "272         4.55   Rainy           Low   Afternoon         Bike   \n",
       "865         4.05   Clear        Medium   Afternoon      Scooter   \n",
       "438        13.60   Foggy          High     Evening         Bike   \n",
       "103        18.76   Clear        Medium     Evening          Car   \n",
       "\n",
       "     Preparation_Time_min  Speed_[km/m]  \n",
       "913                    25      0.480000  \n",
       "930                    22      0.333636  \n",
       "664                    16      0.227500  \n",
       "768                    19      0.208947  \n",
       "915                    12      1.586667  \n",
       "..                    ...           ...  \n",
       "107                    17      0.875882  \n",
       "272                     5      0.910000  \n",
       "865                    21      0.192857  \n",
       "438                     9      1.511111  \n",
       "103                    15      1.250667  \n",
       "\n",
       "[795 rows x 7 columns]"
      ]
     },
     "execution_count": 30,
     "metadata": {},
     "output_type": "execute_result"
    }
   ],
   "source": [
    "X_train\n",
    "sample_X_train = select_column(X_train)\n",
    "new_sample_X_train = create_speed(sample_X_train)\n",
    "new_sample_X_train"
   ]
  },
  {
   "cell_type": "code",
   "execution_count": 41,
   "id": "32686461",
   "metadata": {},
   "outputs": [],
   "source": [
    "def drop_column(df):\n",
    "    columns = ['Weather_Windy', \n",
    "               'Traffic_Level_Medium','Time_of_Day_Night'\n",
    "               ,'Vehicle_Type_Scooter']\n",
    "    \n",
    "    new_df = df.drop(columns,axis = 1)\n",
    "    return new_df\n"
   ]
  },
  {
   "cell_type": "code",
   "execution_count": 42,
   "id": "e1cb3fc9",
   "metadata": {},
   "outputs": [],
   "source": [
    "def int_convertor(column,df) :\n",
    "    \"\"\"\n",
    "    df : pass dataframe in this parameter\n",
    "    columns : pass column for which we need conversion to integer datatype\n",
    "    \n",
    "    this function will convert given column datatype to integer\n",
    "    version : 1\n",
    "    \n",
    "    \"\"\"\n",
    "    try :\n",
    "        df[column] = df[column].astype('int64')\n",
    "    except Exception as e :\n",
    "        print(e)"
   ]
  },
  {
   "cell_type": "code",
   "execution_count": 48,
   "id": "6f1f0f21",
   "metadata": {},
   "outputs": [
    {
     "data": {
      "text/plain": [
       "<function __main__.apply_transformer(sample)>"
      ]
     },
     "execution_count": 48,
     "metadata": {},
     "output_type": "execute_result"
    }
   ],
   "source": [
    "apply_transformer"
   ]
  },
  {
   "cell_type": "code",
   "execution_count": 46,
   "id": "16fe2428",
   "metadata": {},
   "outputs": [],
   "source": [
    "def apply_transformer(sample):\n",
    "    transformer = ColumnTransformer(\n",
    "        transformers=[\n",
    "            ('numerical',StandardScaler(),['Distance_km','Preparation_Time_min',\n",
    "           'Speed_[km/m]']),\n",
    "            ('categorical',OneHotEncoder(),['Weather', 'Traffic_Level', 'Time_of_Day',\n",
    "           'Vehicle_Type'])\n",
    "                    ],\n",
    "        remainder='passthrough'\n",
    "\n",
    "    )\n",
    "    \n",
    "    sample_X_train = select_column(X_train)\n",
    "    new_sample_X_train = create_speed(sample_X_train)\n",
    "    \n",
    "    transformer.fit(new_sample_X_train)\n",
    "    new_sample= transformer.transform(sample)\n",
    "    new_sample_df=pd.DataFrame(new_sample,columns=[\n",
    "        'Distance_km','Preparation_Time_min','Speed_[km/m]',\n",
    "        'Weather_Clear', 'Weather_Foggy', 'Weather_Rainy', 'Weather_Snowy',\n",
    "           'Weather_Windy', 'Traffic_Level_High', 'Traffic_Level_Low',\n",
    "           'Traffic_Level_Medium', 'Time_of_Day_Afternoon',\n",
    "           'Time_of_Day_Evening', 'Time_of_Day_Morning', 'Time_of_Day_Night',\n",
    "           'Vehicle_Type_Bike', 'Vehicle_Type_Car', 'Vehicle_Type_Scooter'\n",
    "    ])\n",
    "    new_sample_df = drop_column(new_sample_df)\n",
    "    new_sample_df = int_convertor(new_sample_df)\n",
    "    return new_sample_df"
   ]
  },
  {
   "cell_type": "code",
   "execution_count": 47,
   "id": "684b48fa",
   "metadata": {},
   "outputs": [
    {
     "ename": "NameError",
     "evalue": "name 'new_sample_df' is not defined",
     "output_type": "error",
     "traceback": [
      "\u001b[1;31m---------------------------------------------------------------------------\u001b[0m",
      "\u001b[1;31mNameError\u001b[0m                                 Traceback (most recent call last)",
      "Cell \u001b[1;32mIn[47], line 1\u001b[0m\n\u001b[1;32m----> 1\u001b[0m new_sample_df\n",
      "\u001b[1;31mNameError\u001b[0m: name 'new_sample_df' is not defined"
     ]
    }
   ],
   "source": [
    "new_sample_df"
   ]
  },
  {
   "cell_type": "code",
   "execution_count": 49,
   "id": "cf56d600",
   "metadata": {},
   "outputs": [
    {
     "ename": "NameError",
     "evalue": "name 'new_sample' is not defined",
     "output_type": "error",
     "traceback": [
      "\u001b[1;31m---------------------------------------------------------------------------\u001b[0m",
      "\u001b[1;31mNameError\u001b[0m                                 Traceback (most recent call last)",
      "Cell \u001b[1;32mIn[49], line 1\u001b[0m\n\u001b[1;32m----> 1\u001b[0m new_sample\n",
      "\u001b[1;31mNameError\u001b[0m: name 'new_sample' is not defined"
     ]
    }
   ],
   "source": [
    "new_sample"
   ]
  },
  {
   "cell_type": "code",
   "execution_count": 50,
   "id": "b138272f",
   "metadata": {},
   "outputs": [
    {
     "ename": "NameError",
     "evalue": "name 'transformer' is not defined",
     "output_type": "error",
     "traceback": [
      "\u001b[1;31m---------------------------------------------------------------------------\u001b[0m",
      "\u001b[1;31mNameError\u001b[0m                                 Traceback (most recent call last)",
      "Cell \u001b[1;32mIn[50], line 1\u001b[0m\n\u001b[1;32m----> 1\u001b[0m categorical_column \u001b[38;5;241m=\u001b[39m transformer\u001b[38;5;241m.\u001b[39mnamed_transformers_[\u001b[38;5;124m'\u001b[39m\u001b[38;5;124mcategorical\u001b[39m\u001b[38;5;124m'\u001b[39m]\u001b[38;5;241m.\u001b[39mget_feature_names_out()\n",
      "\u001b[1;31mNameError\u001b[0m: name 'transformer' is not defined"
     ]
    }
   ],
   "source": [
    "categorical_column = transformer.named_transformers_['categorical'].get_feature_names_out()"
   ]
  },
  {
   "cell_type": "code",
   "execution_count": 52,
   "id": "8f25bcfc",
   "metadata": {},
   "outputs": [
    {
     "data": {
      "text/plain": [
       "array(['Weather_Clear', 'Weather_Foggy', 'Weather_Rainy', 'Weather_Snowy',\n",
       "       'Weather_Windy', 'Traffic_Level_High', 'Traffic_Level_Low',\n",
       "       'Traffic_Level_Medium', 'Time_of_Day_Afternoon',\n",
       "       'Time_of_Day_Evening', 'Time_of_Day_Morning', 'Time_of_Day_Night',\n",
       "       'Vehicle_Type_Bike', 'Vehicle_Type_Car', 'Vehicle_Type_Scooter'],\n",
       "      dtype=object)"
      ]
     },
     "execution_count": 52,
     "metadata": {},
     "output_type": "execute_result"
    }
   ],
   "source": [
    "categorical_column"
   ]
  },
  {
   "cell_type": "code",
   "execution_count": 34,
   "id": "b5358b9c",
   "metadata": {},
   "outputs": [
    {
     "name": "stderr",
     "output_type": "stream",
     "text": [
      "C:\\Users\\User\\AppData\\Local\\Temp\\ipykernel_14280\\1435621871.py:2: SettingWithCopyWarning: \n",
      "A value is trying to be set on a copy of a slice from a DataFrame.\n",
      "Try using .loc[row_indexer,col_indexer] = value instead\n",
      "\n",
      "See the caveats in the documentation: https://pandas.pydata.org/pandas-docs/stable/user_guide/indexing.html#returning-a-view-versus-a-copy\n",
      "  data['Speed_[km/m]'] =data['Distance_km'] / data['Preparation_Time_min']\n"
     ]
    },
    {
     "ename": "TypeError",
     "evalue": "int_convertor() missing 1 required positional argument: 'df'",
     "output_type": "error",
     "traceback": [
      "\u001b[1;31m---------------------------------------------------------------------------\u001b[0m",
      "\u001b[1;31mTypeError\u001b[0m                                 Traceback (most recent call last)",
      "Cell \u001b[1;32mIn[34], line 1\u001b[0m\n\u001b[1;32m----> 1\u001b[0m apply_transformer(sample)\n",
      "Cell \u001b[1;32mIn[26], line 27\u001b[0m, in \u001b[0;36mapply_transformer\u001b[1;34m(sample)\u001b[0m\n\u001b[0;32m     18\u001b[0m new_sample_df\u001b[38;5;241m=\u001b[39mpd\u001b[38;5;241m.\u001b[39mDataFrame(new_sample,columns\u001b[38;5;241m=\u001b[39m[\n\u001b[0;32m     19\u001b[0m     \u001b[38;5;124m'\u001b[39m\u001b[38;5;124mDistance_km\u001b[39m\u001b[38;5;124m'\u001b[39m,\u001b[38;5;124m'\u001b[39m\u001b[38;5;124mPreparation_Time_min\u001b[39m\u001b[38;5;124m'\u001b[39m,\u001b[38;5;124m'\u001b[39m\u001b[38;5;124mSpeed_[km/m]\u001b[39m\u001b[38;5;124m'\u001b[39m,\n\u001b[0;32m     20\u001b[0m     \u001b[38;5;124m'\u001b[39m\u001b[38;5;124mWeather_Clear\u001b[39m\u001b[38;5;124m'\u001b[39m, \u001b[38;5;124m'\u001b[39m\u001b[38;5;124mWeather_Foggy\u001b[39m\u001b[38;5;124m'\u001b[39m, \u001b[38;5;124m'\u001b[39m\u001b[38;5;124mWeather_Rainy\u001b[39m\u001b[38;5;124m'\u001b[39m, \u001b[38;5;124m'\u001b[39m\u001b[38;5;124mWeather_Snowy\u001b[39m\u001b[38;5;124m'\u001b[39m,\n\u001b[1;32m   (...)\u001b[0m\n\u001b[0;32m     24\u001b[0m        \u001b[38;5;124m'\u001b[39m\u001b[38;5;124mVehicle_Type_Bike\u001b[39m\u001b[38;5;124m'\u001b[39m, \u001b[38;5;124m'\u001b[39m\u001b[38;5;124mVehicle_Type_Car\u001b[39m\u001b[38;5;124m'\u001b[39m, \u001b[38;5;124m'\u001b[39m\u001b[38;5;124mVehicle_Type_Scooter\u001b[39m\u001b[38;5;124m'\u001b[39m\n\u001b[0;32m     25\u001b[0m ])\n\u001b[0;32m     26\u001b[0m new_sample_df \u001b[38;5;241m=\u001b[39m drop_column(new_sample_df)\n\u001b[1;32m---> 27\u001b[0m new_sample_df \u001b[38;5;241m=\u001b[39m int_convertor(new_sample_df)\n\u001b[0;32m     28\u001b[0m \u001b[38;5;28;01mreturn\u001b[39;00m new_sample_df\n",
      "\u001b[1;31mTypeError\u001b[0m: int_convertor() missing 1 required positional argument: 'df'"
     ]
    }
   ],
   "source": [
    "apply_transformer(sample)"
   ]
  },
  {
   "cell_type": "code",
   "execution_count": 50,
   "id": "ea3cdef9",
   "metadata": {},
   "outputs": [],
   "source": [
    "numerical_columns = ['Distance_km','Preparation_Time_min','Speed_[km/m]']"
   ]
  },
  {
   "cell_type": "code",
   "execution_count": 51,
   "id": "0ddd125c",
   "metadata": {},
   "outputs": [],
   "source": [
    "import joblib\n",
    "M = joblib.load('regression_model.joblib')"
   ]
  },
  {
   "cell_type": "code",
   "execution_count": 52,
   "id": "c2c5f71b",
   "metadata": {},
   "outputs": [
    {
     "ename": "NameError",
     "evalue": "name 'new_sample_df' is not defined",
     "output_type": "error",
     "traceback": [
      "\u001b[1;31m---------------------------------------------------------------------------\u001b[0m",
      "\u001b[1;31mNameError\u001b[0m                                 Traceback (most recent call last)",
      "Cell \u001b[1;32mIn[52], line 1\u001b[0m\n\u001b[1;32m----> 1\u001b[0m M\u001b[38;5;241m.\u001b[39mpredict(new_sample_df)\n",
      "\u001b[1;31mNameError\u001b[0m: name 'new_sample_df' is not defined"
     ]
    }
   ],
   "source": [
    "M.predict(new_sample_df)"
   ]
  },
  {
   "cell_type": "code",
   "execution_count": 27,
   "id": "de6d071c",
   "metadata": {},
   "outputs": [
    {
     "ename": "NameError",
     "evalue": "name 'new_sample_df' is not defined",
     "output_type": "error",
     "traceback": [
      "\u001b[1;31m---------------------------------------------------------------------------\u001b[0m",
      "\u001b[1;31mNameError\u001b[0m                                 Traceback (most recent call last)",
      "Cell \u001b[1;32mIn[27], line 1\u001b[0m\n\u001b[1;32m----> 1\u001b[0m new_sample_df\n",
      "\u001b[1;31mNameError\u001b[0m: name 'new_sample_df' is not defined"
     ]
    }
   ],
   "source": [
    "new_sample_df"
   ]
  },
  {
   "cell_type": "code",
   "execution_count": 53,
   "id": "8eaf74ff",
   "metadata": {},
   "outputs": [
    {
     "name": "stderr",
     "output_type": "stream",
     "text": [
      "C:\\Users\\User\\AppData\\Local\\Temp\\ipykernel_14280\\1435621871.py:2: SettingWithCopyWarning: \n",
      "A value is trying to be set on a copy of a slice from a DataFrame.\n",
      "Try using .loc[row_indexer,col_indexer] = value instead\n",
      "\n",
      "See the caveats in the documentation: https://pandas.pydata.org/pandas-docs/stable/user_guide/indexing.html#returning-a-view-versus-a-copy\n",
      "  data['Speed_[km/m]'] =data['Distance_km'] / data['Preparation_Time_min']\n"
     ]
    },
    {
     "ename": "TypeError",
     "evalue": "int_convertor() missing 1 required positional argument: 'df'",
     "output_type": "error",
     "traceback": [
      "\u001b[1;31m---------------------------------------------------------------------------\u001b[0m",
      "\u001b[1;31mTypeError\u001b[0m                                 Traceback (most recent call last)",
      "Cell \u001b[1;32mIn[53], line 1\u001b[0m\n\u001b[1;32m----> 1\u001b[0m new_sample_df \u001b[38;5;241m=\u001b[39m apply_transformer(sample)\n",
      "Cell \u001b[1;32mIn[46], line 27\u001b[0m, in \u001b[0;36mapply_transformer\u001b[1;34m(sample)\u001b[0m\n\u001b[0;32m     18\u001b[0m new_sample_df\u001b[38;5;241m=\u001b[39mpd\u001b[38;5;241m.\u001b[39mDataFrame(new_sample,columns\u001b[38;5;241m=\u001b[39m[\n\u001b[0;32m     19\u001b[0m     \u001b[38;5;124m'\u001b[39m\u001b[38;5;124mDistance_km\u001b[39m\u001b[38;5;124m'\u001b[39m,\u001b[38;5;124m'\u001b[39m\u001b[38;5;124mPreparation_Time_min\u001b[39m\u001b[38;5;124m'\u001b[39m,\u001b[38;5;124m'\u001b[39m\u001b[38;5;124mSpeed_[km/m]\u001b[39m\u001b[38;5;124m'\u001b[39m,\n\u001b[0;32m     20\u001b[0m     \u001b[38;5;124m'\u001b[39m\u001b[38;5;124mWeather_Clear\u001b[39m\u001b[38;5;124m'\u001b[39m, \u001b[38;5;124m'\u001b[39m\u001b[38;5;124mWeather_Foggy\u001b[39m\u001b[38;5;124m'\u001b[39m, \u001b[38;5;124m'\u001b[39m\u001b[38;5;124mWeather_Rainy\u001b[39m\u001b[38;5;124m'\u001b[39m, \u001b[38;5;124m'\u001b[39m\u001b[38;5;124mWeather_Snowy\u001b[39m\u001b[38;5;124m'\u001b[39m,\n\u001b[1;32m   (...)\u001b[0m\n\u001b[0;32m     24\u001b[0m        \u001b[38;5;124m'\u001b[39m\u001b[38;5;124mVehicle_Type_Bike\u001b[39m\u001b[38;5;124m'\u001b[39m, \u001b[38;5;124m'\u001b[39m\u001b[38;5;124mVehicle_Type_Car\u001b[39m\u001b[38;5;124m'\u001b[39m, \u001b[38;5;124m'\u001b[39m\u001b[38;5;124mVehicle_Type_Scooter\u001b[39m\u001b[38;5;124m'\u001b[39m\n\u001b[0;32m     25\u001b[0m ])\n\u001b[0;32m     26\u001b[0m new_sample_df \u001b[38;5;241m=\u001b[39m drop_column(new_sample_df)\n\u001b[1;32m---> 27\u001b[0m new_sample_df \u001b[38;5;241m=\u001b[39m int_convertor(new_sample_df)\n\u001b[0;32m     28\u001b[0m \u001b[38;5;28;01mreturn\u001b[39;00m new_sample_df\n",
      "\u001b[1;31mTypeError\u001b[0m: int_convertor() missing 1 required positional argument: 'df'"
     ]
    }
   ],
   "source": [
    "new_sample_df = apply_transformer(sample)"
   ]
  },
  {
   "cell_type": "code",
   "execution_count": null,
   "id": "fcd76921",
   "metadata": {},
   "outputs": [],
   "source": []
  },
  {
   "cell_type": "code",
   "execution_count": null,
   "id": "e7e8ddc8",
   "metadata": {},
   "outputs": [],
   "source": []
  },
  {
   "cell_type": "code",
   "execution_count": null,
   "id": "cabb542e",
   "metadata": {},
   "outputs": [],
   "source": []
  }
 ],
 "metadata": {
  "kernelspec": {
   "display_name": "Python 3 (ipykernel)",
   "language": "python",
   "name": "python3"
  },
  "language_info": {
   "codemirror_mode": {
    "name": "ipython",
    "version": 3
   },
   "file_extension": ".py",
   "mimetype": "text/x-python",
   "name": "python",
   "nbconvert_exporter": "python",
   "pygments_lexer": "ipython3",
   "version": "3.11.5"
  }
 },
 "nbformat": 4,
 "nbformat_minor": 5
}
